{
  "nbformat": 4,
  "nbformat_minor": 0,
  "metadata": {
    "colab": {
      "provenance": [],
      "toc_visible": true,
      "authorship_tag": "ABX9TyPXcvJxQK/6lcDTLz50SkYd",
      "include_colab_link": true
    },
    "kernelspec": {
      "name": "python3",
      "display_name": "Python 3"
    },
    "language_info": {
      "name": "python"
    }
  },
  "cells": [
    {
      "cell_type": "markdown",
      "metadata": {
        "id": "view-in-github",
        "colab_type": "text"
      },
      "source": [
        "<a href=\"https://colab.research.google.com/github/mushaidazenab/perceptron_iris/blob/main/perceptron_iris_model.ipynb\" target=\"_parent\"><img src=\"https://colab.research.google.com/assets/colab-badge.svg\" alt=\"Open In Colab\"/></a>"
      ]
    },
    {
      "cell_type": "code",
      "execution_count": null,
      "metadata": {
        "id": "Plzcykk94Ipu"
      },
      "outputs": [],
      "source": []
    },
    {
      "cell_type": "code",
      "source": [
        "#import libraries\n",
        "\n",
        "from sklearn import datasets #gives ready to use data sets like iris being used here\n",
        "from sklearn.model_selection import train_test_split #dividing data into training and testing\n",
        "from sklearn.linear_model import Perceptron #train\n",
        "from sklearn.metrics import accuracy_score #evaluate/test\n",
        "\n",
        "\n",
        "\n",
        "#load iris data required\n",
        "\n",
        "iris_dataset = datasets.load_iris() #loads iris dataset\n",
        "x = iris_dataset.data[:,[2,3]]\n",
        "y = iris_dataset.target #type of flower\n",
        "\n",
        "\n",
        "#split the data set\n",
        "\n",
        "x_train, x_test, y_train, y_test = train_test_split(x,y, test_size= 0.3)\n",
        "\n",
        "\n",
        "\n",
        "\n",
        "#create a perceptron model\n",
        "\n",
        "perceptron_model = Perceptron(max_iter=3, tol=1e-3, eta0=0.001, fit_intercept=True, random_state=0, verbose = True)\n",
        "\n",
        "\n",
        "#train\n",
        "\n",
        "perceptron_model.fit(x_train, y_train)\n",
        "\n",
        "\n",
        "y_predict = perceptron_model.predict(x_test)\n",
        "accuracy = accuracy_score(y_test, y_predict)\n",
        "accuracy = accuracy*100\n",
        "print(\"\\n accuracy of model: \" + str(round(accuracy,2)) + \"%\\n\")\n",
        "\n",
        "\n",
        "\n",
        "\n",
        "\n",
        "\n"
      ],
      "metadata": {
        "colab": {
          "base_uri": "https://localhost:8080/"
        },
        "id": "SdP1ot_j4Q36",
        "outputId": "15d7b6dc-5eb4-46b0-cb0b-6eebe53309d9"
      },
      "execution_count": 1,
      "outputs": [
        {
          "output_type": "stream",
          "name": "stdout",
          "text": [
            "-- Epoch 1\n",
            "Norm: 0.01, NNZs: 2, Bias: 0.005000, T: 105, Avg. loss: 0.000383\n",
            "Total training time: 0.00 seconds.\n",
            "-- Epoch 2\n",
            "Norm: 0.00, NNZs: 2, Bias: 0.006000, T: 210, Avg. loss: 0.000036\n",
            "Total training time: 0.00 seconds.\n",
            "-- Epoch 3\n",
            "Norm: 0.00, NNZs: 2, Bias: 0.006000, T: 315, Avg. loss: 0.000000\n",
            "Total training time: 0.00 seconds.\n",
            "-- Epoch 1\n",
            "Norm: 0.00, NNZs: 2, Bias: -0.004000, T: 105, Avg. loss: 0.004588\n",
            "Total training time: 0.00 seconds.\n",
            "-- Epoch 2\n",
            "Norm: 0.00, NNZs: 2, Bias: -0.003000, T: 210, Avg. loss: 0.005182\n",
            "Total training time: 0.00 seconds.\n",
            "-- Epoch 3\n",
            "Norm: 0.01, NNZs: 2, Bias: -0.004000, T: 315, Avg. loss: 0.005950\n",
            "Total training time: 0.00 seconds.\n",
            "-- Epoch 1\n",
            "Norm: 0.01, NNZs: 2, Bias: -0.009000, T: 105, Avg. loss: 0.004429\n",
            "Total training time: 0.00 seconds.\n",
            "-- Epoch 2\n",
            "Norm: 0.01, NNZs: 2, Bias: -0.011000, T: 210, Avg. loss: 0.001923\n",
            "Total training time: 0.00 seconds.\n",
            "-- Epoch 3\n",
            "Norm: 0.01, NNZs: 2, Bias: -0.014000, T: 315, Avg. loss: 0.002246\n",
            "Total training time: 0.00 seconds.\n",
            "\n",
            " accuracy of model: 71.11%\n",
            "\n"
          ]
        },
        {
          "output_type": "stream",
          "name": "stderr",
          "text": [
            "[Parallel(n_jobs=1)]: Done   3 out of   3 | elapsed:    0.0s finished\n",
            "/usr/local/lib/python3.11/dist-packages/sklearn/linear_model/_stochastic_gradient.py:738: ConvergenceWarning: Maximum number of iteration reached before convergence. Consider increasing max_iter to improve the fit.\n",
            "  warnings.warn(\n"
          ]
        }
      ]
    },
    {
      "cell_type": "code",
      "source": [],
      "metadata": {
        "id": "eZao1Jsv9Vu-"
      },
      "execution_count": null,
      "outputs": []
    }
  ]
}